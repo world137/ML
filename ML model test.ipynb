{
 "cells": [
  {
   "cell_type": "code",
   "execution_count": 1,
   "id": "1bf83183",
   "metadata": {},
   "outputs": [
    {
     "name": "stdout",
     "output_type": "stream",
     "text": [
      "hello world\n"
     ]
    }
   ],
   "source": [
    "print('hello world')"
   ]
  },
  {
   "cell_type": "code",
   "execution_count": 2,
   "id": "dc956089",
   "metadata": {
    "scrolled": true
   },
   "outputs": [
    {
     "data": {
      "text/plain": [
       "'1.2.4'"
      ]
     },
     "execution_count": 2,
     "metadata": {},
     "output_type": "execute_result"
    }
   ],
   "source": [
    "import pandas as pd\n",
    "pd.__version__"
   ]
  },
  {
   "cell_type": "code",
   "execution_count": 3,
   "id": "965e4976",
   "metadata": {},
   "outputs": [
    {
     "data": {
      "text/plain": [
       "IP    35000\n",
       "HW    30000\n",
       "SS    32500\n",
       "dtype: int64"
      ]
     },
     "execution_count": 3,
     "metadata": {},
     "output_type": "execute_result"
    }
   ],
   "source": [
    "data = {\n",
    "    'IP' : 35000 ,\n",
    "    'HW' : 30000 ,\n",
    "    'SS' : 32500\n",
    "}\n",
    "sr = pd.Series(data)\n",
    "sr"
   ]
  },
  {
   "cell_type": "code",
   "execution_count": 4,
   "id": "8a794c2f",
   "metadata": {},
   "outputs": [
    {
     "name": "stdout",
     "output_type": "stream",
     "text": [
      "[91 98 53 62 12 23]\n"
     ]
    }
   ],
   "source": [
    "import numpy as np\n",
    "data2 = np.random.randint(10,100,6)\n",
    "print(data2)"
   ]
  },
  {
   "cell_type": "code",
   "execution_count": 5,
   "id": "99836b0f",
   "metadata": {},
   "outputs": [
    {
     "data": {
      "text/plain": [
       "0    91\n",
       "1    98\n",
       "2    53\n",
       "3    62\n",
       "4    12\n",
       "5    23\n",
       "dtype: int32"
      ]
     },
     "metadata": {},
     "output_type": "display_data"
    }
   ],
   "source": [
    "sr2 = pd.Series(data2)\n",
    "display(sr2)"
   ]
  },
  {
   "cell_type": "code",
   "execution_count": 17,
   "id": "2c30988f",
   "metadata": {},
   "outputs": [
    {
     "name": "stdout",
     "output_type": "stream",
     "text": [
      "[-3 -5  1  0  3  1  0]\n",
      "[True, False, False]\n"
     ]
    }
   ],
   "source": [
    "a = [-3 , -5 , 1 , 0 , 3 , True , False]\n",
    "b = [True , False , False]\n",
    "c = np.array(a)\n",
    "d = np.array(b)\n",
    "print(c)\n",
    "print(b)"
   ]
  },
  {
   "cell_type": "code",
   "execution_count": 24,
   "id": "4393afea",
   "metadata": {},
   "outputs": [
    {
     "name": "stdout",
     "output_type": "stream",
     "text": [
      "[ True  True  True False  True  True False]\n",
      "[True, False, False]\n",
      "[-3. -5.  1.  0.  3.  1.  0.]\n"
     ]
    }
   ],
   "source": [
    "a = [-3 , -5 , 1 , 0 , 3 , True , False]\n",
    "b = [True , False , False]\n",
    "c = np.array(a , dtype = bool)\n",
    "d = np.array(b , dtype = float)\n",
    "e = np.array(a , dtype = float)\n",
    "print(c)\n",
    "print(b)\n",
    "print(e)"
   ]
  },
  {
   "cell_type": "code",
   "execution_count": 27,
   "id": "93c11ecc",
   "metadata": {},
   "outputs": [
    {
     "name": "stdout",
     "output_type": "stream",
     "text": [
      "[[6 8 8]\n",
      " [3 7 3]\n",
      " [9 6 7]\n",
      " [3 5 7]]\n"
     ]
    }
   ],
   "source": [
    "a1 = np.random.randint(1 , 10 , (2,3))\n",
    "a2 = np.random.randint(1 , 10 , (2,3))\n",
    "s = np.concatenate([a1 , a2])\n",
    "print(s)"
   ]
  },
  {
   "cell_type": "code",
   "execution_count": 39,
   "id": "55456191",
   "metadata": {},
   "outputs": [
    {
     "name": "stdout",
     "output_type": "stream",
     "text": [
      "[[3 6]\n",
      " [7 6]] \n",
      "\n",
      "[[7 1 1]\n",
      " [5 7 7]] \n",
      "\n",
      "[[3 6 7 1 1]\n",
      " [7 6 5 7 7]] \n",
      "\n",
      "[[3 6]\n",
      " [7 6]\n",
      " [3 6]\n",
      " [7 6]]\n"
     ]
    }
   ],
   "source": [
    "a3 = np.random.randint(1 , 10 , (2,2))\n",
    "a4 = np.random.randint(1 , 10 , (2,3))\n",
    "s2 = np.hstack([a3 , a4])\n",
    "s3 = np.vstack([a3 , a3])\n",
    "print(a3 , '\\n')\n",
    "print(a4 , '\\n')\n",
    "print(s2 , '\\n')\n",
    "print(s3)"
   ]
  },
  {
   "cell_type": "code",
   "execution_count": 42,
   "id": "e78b6023",
   "metadata": {},
   "outputs": [
    {
     "name": "stdout",
     "output_type": "stream",
     "text": [
      "[[2 7]\n",
      " [8 4]] \n",
      "\n",
      "[[137   7]\n",
      " [  8   4]] \n",
      "\n",
      "[[137   7]\n",
      " [  8   4]] \n",
      "\n",
      "[[2 7]\n",
      " [8 4]] \n",
      "\n"
     ]
    }
   ],
   "source": [
    "arr = np.random.randint(1 , 10 , (2,2))\n",
    "print(arr , '\\n')\n",
    "arr2 = arr.view()\n",
    "arr3 = arr.copy()\n",
    "arr[0,0] = 137\n",
    "print(arr , '\\n')\n",
    "print(arr2 , '\\n')\n",
    "print(arr3 , '\\n')"
   ]
  },
  {
   "cell_type": "code",
   "execution_count": 54,
   "id": "074f90b8",
   "metadata": {
    "scrolled": true
   },
   "outputs": [
    {
     "name": "stdout",
     "output_type": "stream",
     "text": [
      "0    20\n",
      "1    10\n",
      "2    40\n",
      "3    55\n",
      "dtype: int64 \n",
      "\n",
      "0    10\n",
      "1    29\n",
      "2    44\n",
      "3    25\n",
      "4     2\n",
      "dtype: int64 \n",
      "\n"
     ]
    }
   ],
   "source": [
    "data1 = [20,10,40,55]\n",
    "sr1 = pd.Series(data1) #กำหนดข้อมูลแบบ sequence\n",
    "data2 = (10,29,44,25,2)\n",
    "sr2 = pd.Series(data2)\n",
    "print(sr1 , \"\\n\")\n",
    "\n",
    "print(sr2 , \"\\n\")"
   ]
  },
  {
   "cell_type": "code",
   "execution_count": 56,
   "id": "29548a5f",
   "metadata": {},
   "outputs": [
    {
     "data": {
      "text/plain": [
       "a    10\n",
       "b    30\n",
       "c    20\n",
       "d    33\n",
       "dtype: int64"
      ]
     },
     "metadata": {},
     "output_type": "display_data"
    }
   ],
   "source": [
    "data3 = [10 , 30 , 20 , 33]\n",
    "idx = ['a' , 'b' , 'c' , 'd'] #กำหนด index\n",
    "sr3 = pd.Series(data3 , index = idx)\n",
    "display(sr3)"
   ]
  },
  {
   "cell_type": "code",
   "execution_count": 57,
   "id": "97223b62",
   "metadata": {},
   "outputs": [
    {
     "data": {
      "text/plain": [
       "a    10\n",
       "b    30\n",
       "c    20\n",
       "d    33\n",
       "dtype: int64"
      ]
     },
     "metadata": {},
     "output_type": "display_data"
    }
   ],
   "source": [
    "data4 = [10 , 30 , 20 , 33]\n",
    "sr4 = pd.Series(data4 , index = list(\"abcd\"))# ใข้ list กำหนด index\n",
    "display(sr4)"
   ]
  },
  {
   "cell_type": "code",
   "execution_count": 67,
   "id": "ec602cc0",
   "metadata": {},
   "outputs": [
    {
     "data": {
      "text/plain": [
       "2     27\n",
       "3     13\n",
       "6     28\n",
       "8     38\n",
       "10    49\n",
       "dtype: int32"
      ]
     },
     "metadata": {},
     "output_type": "display_data"
    }
   ],
   "source": [
    "data5 = np.random.randint(10,100,5)\n",
    "sr5 = pd.Series(data5 , index = [2,3,6,8,10])\n",
    "display(sr5)"
   ]
  },
  {
   "cell_type": "code",
   "execution_count": 68,
   "id": "188ca25a",
   "metadata": {},
   "outputs": [
    {
     "data": {
      "text/plain": [
       "8     38\n",
       "10    49\n",
       "dtype: int32"
      ]
     },
     "metadata": {},
     "output_type": "display_data"
    }
   ],
   "source": [
    "display(sr5[3:8]) # เลือก index ตน.ที่ 3-8"
   ]
  },
  {
   "cell_type": "code",
   "execution_count": 69,
   "id": "29709734",
   "metadata": {},
   "outputs": [
    {
     "data": {
      "text/plain": [
       "3    13\n",
       "6    28\n",
       "8    38\n",
       "dtype: int32"
      ]
     },
     "metadata": {},
     "output_type": "display_data"
    }
   ],
   "source": [
    "display(sr5.loc[3:8]) #เลือก index ที่ชื่อ 3-8"
   ]
  },
  {
   "cell_type": "code",
   "execution_count": null,
   "id": "0d717a29",
   "metadata": {},
   "outputs": [],
   "source": []
  }
 ],
 "metadata": {
  "kernelspec": {
   "display_name": "Python 3",
   "language": "python",
   "name": "python3"
  },
  "language_info": {
   "codemirror_mode": {
    "name": "ipython",
    "version": 3
   },
   "file_extension": ".py",
   "mimetype": "text/x-python",
   "name": "python",
   "nbconvert_exporter": "python",
   "pygments_lexer": "ipython3",
   "version": "3.8.8"
  }
 },
 "nbformat": 4,
 "nbformat_minor": 5
}
