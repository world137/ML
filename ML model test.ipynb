{
 "cells": [
  {
   "cell_type": "code",
   "execution_count": 2,
   "id": "1bf83183",
   "metadata": {},
   "outputs": [
    {
     "name": "stdout",
     "output_type": "stream",
     "text": [
      "hello world\n"
     ]
    }
   ],
   "source": [
    "print('hello world')"
   ]
  },
  {
   "cell_type": "code",
   "execution_count": 3,
   "id": "dc956089",
   "metadata": {
    "scrolled": true
   },
   "outputs": [
    {
     "data": {
      "text/plain": [
       "'1.2.4'"
      ]
     },
     "execution_count": 3,
     "metadata": {},
     "output_type": "execute_result"
    }
   ],
   "source": [
    "import pandas as pd\n",
    "pd.__version__"
   ]
  },
  {
   "cell_type": "code",
   "execution_count": 4,
   "id": "965e4976",
   "metadata": {},
   "outputs": [
    {
     "data": {
      "text/plain": [
       "IP    35000\n",
       "HW    30000\n",
       "SS    32500\n",
       "dtype: int64"
      ]
     },
     "execution_count": 4,
     "metadata": {},
     "output_type": "execute_result"
    }
   ],
   "source": [
    "data = {\n",
    "    'IP' : 35000 ,\n",
    "    'HW' : 30000 ,\n",
    "    'SS' : 32500\n",
    "}\n",
    "sr = pd.Series(data)\n",
    "sr"
   ]
  },
  {
   "cell_type": "code",
   "execution_count": 5,
   "id": "8a794c2f",
   "metadata": {},
   "outputs": [
    {
     "name": "stdout",
     "output_type": "stream",
     "text": [
      "[10 46 73 25 45 63]\n"
     ]
    }
   ],
   "source": [
    "import numpy as np\n",
    "data2 = np.random.randint(10,100,6)\n",
    "print(data2)"
   ]
  },
  {
   "cell_type": "code",
   "execution_count": 6,
   "id": "99836b0f",
   "metadata": {},
   "outputs": [
    {
     "data": {
      "text/plain": [
       "0    10\n",
       "1    46\n",
       "2    73\n",
       "3    25\n",
       "4    45\n",
       "5    63\n",
       "dtype: int32"
      ]
     },
     "metadata": {},
     "output_type": "display_data"
    }
   ],
   "source": [
    "sr2 = pd.Series(data2)\n",
    "display(sr2)"
   ]
  },
  {
   "cell_type": "code",
   "execution_count": 7,
   "id": "2c30988f",
   "metadata": {},
   "outputs": [
    {
     "name": "stdout",
     "output_type": "stream",
     "text": [
      "[-3 -5  1  0  3  1  0]\n",
      "[True, False, False]\n"
     ]
    }
   ],
   "source": [
    "a = [-3 , -5 , 1 , 0 , 3 , True , False]\n",
    "b = [True , False , False]\n",
    "c = np.array(a)\n",
    "d = np.array(b)\n",
    "print(c)\n",
    "print(b)"
   ]
  },
  {
   "cell_type": "code",
   "execution_count": 8,
   "id": "4393afea",
   "metadata": {},
   "outputs": [
    {
     "name": "stdout",
     "output_type": "stream",
     "text": [
      "[ True  True  True False  True  True False]\n",
      "[True, False, False]\n",
      "[-3. -5.  1.  0.  3.  1.  0.]\n"
     ]
    }
   ],
   "source": [
    "a = [-3 , -5 , 1 , 0 , 3 , True , False]\n",
    "b = [True , False , False]\n",
    "c = np.array(a , dtype = bool)\n",
    "d = np.array(b , dtype = float)\n",
    "e = np.array(a , dtype = float)\n",
    "print(c)\n",
    "print(b)\n",
    "print(e)"
   ]
  },
  {
   "cell_type": "code",
   "execution_count": 9,
   "id": "93c11ecc",
   "metadata": {},
   "outputs": [
    {
     "name": "stdout",
     "output_type": "stream",
     "text": [
      "[[2 2 6]\n",
      " [5 1 5]\n",
      " [2 4 5]\n",
      " [4 7 5]]\n"
     ]
    }
   ],
   "source": [
    "a1 = np.random.randint(1 , 10 , (2,3))\n",
    "a2 = np.random.randint(1 , 10 , (2,3))\n",
    "s = np.concatenate([a1 , a2])\n",
    "print(s)"
   ]
  },
  {
   "cell_type": "code",
   "execution_count": 10,
   "id": "55456191",
   "metadata": {},
   "outputs": [
    {
     "name": "stdout",
     "output_type": "stream",
     "text": [
      "[[1 7]\n",
      " [1 3]] \n",
      "\n",
      "[[3 5 2]\n",
      " [9 6 1]] \n",
      "\n",
      "[[1 7 3 5 2]\n",
      " [1 3 9 6 1]] \n",
      "\n",
      "[[1 7]\n",
      " [1 3]\n",
      " [1 7]\n",
      " [1 3]]\n"
     ]
    }
   ],
   "source": [
    "a3 = np.random.randint(1 , 10 , (2,2))\n",
    "a4 = np.random.randint(1 , 10 , (2,3))\n",
    "s2 = np.hstack([a3 , a4])\n",
    "s3 = np.vstack([a3 , a3])\n",
    "print(a3 , '\\n')\n",
    "print(a4 , '\\n')\n",
    "print(s2 , '\\n')\n",
    "print(s3)"
   ]
  },
  {
   "cell_type": "code",
   "execution_count": 11,
   "id": "e78b6023",
   "metadata": {},
   "outputs": [
    {
     "name": "stdout",
     "output_type": "stream",
     "text": [
      "[[8 9]\n",
      " [6 5]] \n",
      "\n",
      "[[137   9]\n",
      " [  6   5]] \n",
      "\n",
      "[[137   9]\n",
      " [  6   5]] \n",
      "\n",
      "[[8 9]\n",
      " [6 5]] \n",
      "\n"
     ]
    }
   ],
   "source": [
    "arr = np.random.randint(1 , 10 , (2,2))\n",
    "print(arr , '\\n')\n",
    "arr2 = arr.view()\n",
    "arr3 = arr.copy()\n",
    "arr[0,0] = 137\n",
    "print(arr , '\\n')\n",
    "print(arr2 , '\\n')\n",
    "print(arr3 , '\\n')"
   ]
  },
  {
   "cell_type": "code",
   "execution_count": 12,
   "id": "074f90b8",
   "metadata": {
    "scrolled": true
   },
   "outputs": [
    {
     "name": "stdout",
     "output_type": "stream",
     "text": [
      "0    20\n",
      "1    10\n",
      "2    40\n",
      "3    55\n",
      "dtype: int64 \n",
      "\n",
      "0    10\n",
      "1    29\n",
      "2    44\n",
      "3    25\n",
      "4     2\n",
      "dtype: int64 \n",
      "\n"
     ]
    }
   ],
   "source": [
    "data1 = [20,10,40,55]\n",
    "sr1 = pd.Series(data1) #กำหนดข้อมูลแบบ sequence\n",
    "data2 = (10,29,44,25,2)\n",
    "sr2 = pd.Series(data2)\n",
    "print(sr1 , \"\\n\")\n",
    "\n",
    "print(sr2 , \"\\n\")"
   ]
  },
  {
   "cell_type": "code",
   "execution_count": 13,
   "id": "29548a5f",
   "metadata": {},
   "outputs": [
    {
     "data": {
      "text/plain": [
       "a    10\n",
       "b    30\n",
       "c    20\n",
       "d    33\n",
       "dtype: int64"
      ]
     },
     "metadata": {},
     "output_type": "display_data"
    }
   ],
   "source": [
    "data3 = [10 , 30 , 20 , 33]\n",
    "idx = ['a' , 'b' , 'c' , 'd'] #กำหนด index\n",
    "sr3 = pd.Series(data3 , index = idx)\n",
    "display(sr3)"
   ]
  },
  {
   "cell_type": "code",
   "execution_count": 14,
   "id": "97223b62",
   "metadata": {},
   "outputs": [
    {
     "data": {
      "text/plain": [
       "a    10\n",
       "b    30\n",
       "c    20\n",
       "d    33\n",
       "dtype: int64"
      ]
     },
     "metadata": {},
     "output_type": "display_data"
    }
   ],
   "source": [
    "data4 = [10 , 30 , 20 , 33]\n",
    "sr4 = pd.Series(data4 , index = list(\"abcd\"))# ใข้ list กำหนด index\n",
    "display(sr4)"
   ]
  },
  {
   "cell_type": "code",
   "execution_count": 15,
   "id": "ec602cc0",
   "metadata": {},
   "outputs": [
    {
     "data": {
      "text/plain": [
       "2     58\n",
       "3     41\n",
       "6     39\n",
       "8     99\n",
       "10    23\n",
       "dtype: int32"
      ]
     },
     "metadata": {},
     "output_type": "display_data"
    }
   ],
   "source": [
    "data5 = np.random.randint(10,100,5)\n",
    "sr5 = pd.Series(data5 , index = [2,3,6,8,10])\n",
    "display(sr5)"
   ]
  },
  {
   "cell_type": "code",
   "execution_count": 16,
   "id": "188ca25a",
   "metadata": {},
   "outputs": [
    {
     "data": {
      "text/plain": [
       "8     99\n",
       "10    23\n",
       "dtype: int32"
      ]
     },
     "metadata": {},
     "output_type": "display_data"
    }
   ],
   "source": [
    "display(sr5[3:8]) # เลือก index ตน.ที่ 3-8"
   ]
  },
  {
   "cell_type": "code",
   "execution_count": 17,
   "id": "29709734",
   "metadata": {},
   "outputs": [
    {
     "data": {
      "text/plain": [
       "3    41\n",
       "6    39\n",
       "8    99\n",
       "dtype: int32"
      ]
     },
     "metadata": {},
     "output_type": "display_data"
    }
   ],
   "source": [
    "display(sr5.loc[3:8]) #เลือก index ที่ชื่อ 3-8"
   ]
  },
  {
   "cell_type": "code",
   "execution_count": 18,
   "id": "0d717a29",
   "metadata": {},
   "outputs": [
    {
     "data": {
      "text/plain": [
       "False"
      ]
     },
     "metadata": {},
     "output_type": "display_data"
    },
    {
     "data": {
      "text/plain": [
       "False"
      ]
     },
     "metadata": {},
     "output_type": "display_data"
    }
   ],
   "source": [
    "display((sr5 > 30).all(),\n",
    "       (sr5 % 10 ==0).any())"
   ]
  },
  {
   "cell_type": "code",
   "execution_count": 26,
   "id": "f664e61a",
   "metadata": {},
   "outputs": [
    {
     "data": {
      "text/plain": [
       "a     1\n",
       "b     2\n",
       "c     4\n",
       "c    10\n",
       "d    20\n",
       "dtype: int64"
      ]
     },
     "metadata": {},
     "output_type": "display_data"
    },
    {
     "data": {
      "text/plain": [
       "a     1\n",
       "b     2\n",
       "c     4\n",
       "c    10\n",
       "d    20\n",
       "dtype: int64"
      ]
     },
     "metadata": {},
     "output_type": "display_data"
    },
    {
     "data": {
      "text/plain": [
       "0     1\n",
       "1     2\n",
       "2     4\n",
       "3    10\n",
       "4    20\n",
       "dtype: int64"
      ]
     },
     "metadata": {},
     "output_type": "display_data"
    },
    {
     "data": {
      "text/plain": [
       "10    1\n",
       "1     1\n",
       "2     1\n",
       "20    1\n",
       "4     1\n",
       "dtype: int64"
      ]
     },
     "metadata": {},
     "output_type": "display_data"
    }
   ],
   "source": [
    "d1 = pd.Series([1,2,4] , index = list('abc'))\n",
    "d2 = pd.Series([10,20] , index = list('cd'))\n",
    "d3 = pd.concat([d1 , d2])\n",
    "d4 = d1.append(d2 , ignore_index = False)\n",
    "d5 = d1.append(d2 , ignore_index = True)\n",
    "display(d3,\n",
    "       d4,\n",
    "       d5,\n",
    "       d5.value_counts())"
   ]
  },
  {
   "cell_type": "code",
   "execution_count": 53,
   "id": "80c36694",
   "metadata": {},
   "outputs": [
    {
     "data": {
      "text/plain": [
       "a    67\n",
       "b    60\n",
       "c    44\n",
       "dtype: int32"
      ]
     },
     "metadata": {},
     "output_type": "display_data"
    },
    {
     "data": {
      "text/plain": [
       "h    47\n",
       "i    49\n",
       "j    69\n",
       "dtype: int32"
      ]
     },
     "metadata": {},
     "output_type": "display_data"
    },
    {
     "data": {
      "text/plain": [
       "a    67\n",
       "b    60\n",
       "c    44\n",
       "d    81\n",
       "f    62\n",
       "g    85\n",
       "h    47\n",
       "j    69\n",
       "dtype: int32"
      ]
     },
     "metadata": {},
     "output_type": "display_data"
    },
    {
     "data": {
      "text/plain": [
       "a   NaN\n",
       "b   NaN\n",
       "c   NaN\n",
       "d   NaN\n",
       "dtype: float64"
      ]
     },
     "metadata": {},
     "output_type": "display_data"
    },
    {
     "data": {
      "text/plain": [
       "a    10.0\n",
       "b     NaN\n",
       "c    20.0\n",
       "d     NaN\n",
       "dtype: float64"
      ]
     },
     "metadata": {},
     "output_type": "display_data"
    },
    {
     "name": "stdout",
     "output_type": "stream",
     "text": [
      "ant    1\n",
      "boy    2\n",
      "c      3\n",
      "d      4\n",
      "dtype: int64\n"
     ]
    }
   ],
   "source": [
    "d6 = pd.Series(np.random.randint(10,100,10), index = list('abcdefghij'))\n",
    "display(d6.head(3),\n",
    "       d6.tail(3))\n",
    "d7 = pd.Series([1,2,3,4] , index = list('abcd'))\n",
    "#head(x) ==> เลือกตัวหน้ามา x ตัว\n",
    "#tail(x) ==> เลือกตัวหลังมา x ตัว\n",
    "display(d6.drop({'e','i'}))\n",
    "#drop ==> มากกว่า 1 ตัวใส่ {}\n",
    "d8 = d7.map({'a':10 , 'b':20})\n",
    "d9 = d7.map({1:10 , 3:20})\n",
    "display(d8,\n",
    "       d9)\n",
    "#display ==> ใส่เป็นชื่อ ตน. index ไม่ได้ ต้องใส่เป็นค่าข้อมูล\n",
    "d10 = d7.rename({'a':'ant' , 'b':'boy'})\n",
    "print(d10)\n",
    "#rename => ต้องใส่ชื่อ index เท่านั้น(แก้ไขชื่อ index)"
   ]
  },
  {
   "cell_type": "code",
   "execution_count": 58,
   "id": "046c3f8e",
   "metadata": {},
   "outputs": [
    {
     "name": "stdout",
     "output_type": "stream",
     "text": [
      "a:78\n",
      "b:10\n",
      "c:14\n",
      "d:49\n"
     ]
    }
   ],
   "source": [
    "s = pd.Series(np.random.randint(10,100,4) , index = list('abcd'))\n",
    "for index, value in s.iteritems():\n",
    "    print(f'{index}:{value}')"
   ]
  },
  {
   "cell_type": "code",
   "execution_count": 62,
   "id": "32bd28c0",
   "metadata": {},
   "outputs": [
    {
     "name": "stdout",
     "output_type": "stream",
     "text": [
      "Index : 0, Value : A\n",
      "Index : 1, Value : B\n",
      "Index : 2, Value : C\n"
     ]
    }
   ],
   "source": [
    "s2 = pd.Series(['A', 'B', 'C'])\n",
    "for index, value in s2.iteritems():\n",
    "    print(f\"Index : {index}, Value : {value}\")"
   ]
  },
  {
   "cell_type": "code",
   "execution_count": 64,
   "id": "4ab914d3",
   "metadata": {},
   "outputs": [
    {
     "data": {
      "text/plain": [
       "6.0"
      ]
     },
     "metadata": {},
     "output_type": "display_data"
    },
    {
     "data": {
      "text/plain": [
       "3"
      ]
     },
     "metadata": {},
     "output_type": "display_data"
    },
    {
     "data": {
      "text/plain": [
       "5"
      ]
     },
     "metadata": {},
     "output_type": "display_data"
    },
    {
     "data": {
      "text/plain": [
       "b    1.0\n",
       "c    2.0\n",
       "d    3.0\n",
       "dtype: float64"
      ]
     },
     "metadata": {},
     "output_type": "display_data"
    },
    {
     "data": {
      "text/plain": [
       "a    0.0\n",
       "b    1.0\n",
       "c    2.0\n",
       "d    3.0\n",
       "e    0.0\n",
       "dtype: float64"
      ]
     },
     "metadata": {},
     "output_type": "display_data"
    },
    {
     "data": {
      "text/plain": [
       "True"
      ]
     },
     "metadata": {},
     "output_type": "display_data"
    }
   ],
   "source": [
    "s3 = pd.Series([np.nan , 1,2,3,np.nan] , index = list('abcde'))\n",
    "display(s3.sum(),\n",
    "        s3.count(),\n",
    "        s3.size)\n",
    "#function การคำนวณไม่นับรวม nan แต่ size รวม nan ด้วย\n",
    "#dropna() ==> ลบ nan ทิ้ง\n",
    "#fillna() ==> เปลี่ยน nan เป็นค่าใหม่\n",
    "#hasnans ==> return True Flase ตรวจสอบว่ามีค่า nan ?\n",
    "s4 = s3.dropna()\n",
    "s5 = s3.fillna(0)\n",
    "\n",
    "display(s4,\n",
    "       s5,\n",
    "       s3.hasnans)"
   ]
  }
 ],
 "metadata": {
  "kernelspec": {
   "display_name": "Python 3",
   "language": "python",
   "name": "python3"
  },
  "language_info": {
   "codemirror_mode": {
    "name": "ipython",
    "version": 3
   },
   "file_extension": ".py",
   "mimetype": "text/x-python",
   "name": "python",
   "nbconvert_exporter": "python",
   "pygments_lexer": "ipython3",
   "version": "3.8.8"
  }
 },
 "nbformat": 4,
 "nbformat_minor": 5
}
