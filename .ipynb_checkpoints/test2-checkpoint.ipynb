{
 "cells": [
  {
   "cell_type": "code",
   "execution_count": 1,
   "id": "47b33280",
   "metadata": {
    "scrolled": true
   },
   "outputs": [
    {
     "data": {
      "text/html": [
       "<div>\n",
       "<style scoped>\n",
       "    .dataframe tbody tr th:only-of-type {\n",
       "        vertical-align: middle;\n",
       "    }\n",
       "\n",
       "    .dataframe tbody tr th {\n",
       "        vertical-align: top;\n",
       "    }\n",
       "\n",
       "    .dataframe thead th {\n",
       "        text-align: right;\n",
       "    }\n",
       "</style>\n",
       "<table border=\"1\" class=\"dataframe\">\n",
       "  <thead>\n",
       "    <tr style=\"text-align: right;\">\n",
       "      <th></th>\n",
       "      <th>Infect</th>\n",
       "      <th>qHctSD</th>\n",
       "      <th>qPotassSD</th>\n",
       "      <th>qAlbuminSD</th>\n",
       "      <th>qHgbSD</th>\n",
       "      <th>qCaTotalSD</th>\n",
       "      <th>qPhosphSD</th>\n",
       "      <th>qDiastolicSD</th>\n",
       "      <th>qSodiumSD</th>\n",
       "      <th>qWhBldCntLast</th>\n",
       "      <th>...</th>\n",
       "      <th>qCaTotalTrend</th>\n",
       "      <th>qCaTotalLast</th>\n",
       "      <th>qWhBldCntTrend</th>\n",
       "      <th>qGlucoseSD</th>\n",
       "      <th>qSystolicSD</th>\n",
       "      <th>qLymphSD</th>\n",
       "      <th>qWeightVitalSD</th>\n",
       "      <th>qLymphLast</th>\n",
       "      <th>PatientAge</th>\n",
       "      <th>PDVintage</th>\n",
       "    </tr>\n",
       "  </thead>\n",
       "  <tbody>\n",
       "    <tr>\n",
       "      <th>0</th>\n",
       "      <td>0</td>\n",
       "      <td>2.431481</td>\n",
       "      <td>0.228430</td>\n",
       "      <td>0.196453</td>\n",
       "      <td>0.769840</td>\n",
       "      <td>0.355903</td>\n",
       "      <td>0.434613</td>\n",
       "      <td>21.206801</td>\n",
       "      <td>1.758858</td>\n",
       "      <td>3.64</td>\n",
       "      <td>...</td>\n",
       "      <td>-0.041667</td>\n",
       "      <td>8.0</td>\n",
       "      <td>-545.415667</td>\n",
       "      <td>44.605913</td>\n",
       "      <td>27.535835</td>\n",
       "      <td>2.955890</td>\n",
       "      <td>1.212995</td>\n",
       "      <td>14.3</td>\n",
       "      <td>41</td>\n",
       "      <td>7.485284</td>\n",
       "    </tr>\n",
       "    <tr>\n",
       "      <th>1</th>\n",
       "      <td>0</td>\n",
       "      <td>0.947365</td>\n",
       "      <td>0.165831</td>\n",
       "      <td>0.121835</td>\n",
       "      <td>0.547723</td>\n",
       "      <td>0.243670</td>\n",
       "      <td>0.714033</td>\n",
       "      <td>4.662014</td>\n",
       "      <td>1.500000</td>\n",
       "      <td>6490.00</td>\n",
       "      <td>...</td>\n",
       "      <td>-0.028571</td>\n",
       "      <td>9.0</td>\n",
       "      <td>956.159405</td>\n",
       "      <td>13.392512</td>\n",
       "      <td>9.874209</td>\n",
       "      <td>2.909440</td>\n",
       "      <td>0.990502</td>\n",
       "      <td>37.6</td>\n",
       "      <td>47</td>\n",
       "      <td>5.746749</td>\n",
       "    </tr>\n",
       "    <tr>\n",
       "      <th>2</th>\n",
       "      <td>0</td>\n",
       "      <td>2.781608</td>\n",
       "      <td>0.510870</td>\n",
       "      <td>0.214879</td>\n",
       "      <td>0.833292</td>\n",
       "      <td>0.276664</td>\n",
       "      <td>0.530083</td>\n",
       "      <td>11.785113</td>\n",
       "      <td>2.260777</td>\n",
       "      <td>5830.00</td>\n",
       "      <td>...</td>\n",
       "      <td>0.020000</td>\n",
       "      <td>9.4</td>\n",
       "      <td>-243.571429</td>\n",
       "      <td>11.586497</td>\n",
       "      <td>22.609951</td>\n",
       "      <td>1.538465</td>\n",
       "      <td>1.322456</td>\n",
       "      <td>13.6</td>\n",
       "      <td>91</td>\n",
       "      <td>5.204654</td>\n",
       "    </tr>\n",
       "    <tr>\n",
       "      <th>3</th>\n",
       "      <td>0</td>\n",
       "      <td>3.452758</td>\n",
       "      <td>0.604519</td>\n",
       "      <td>0.159882</td>\n",
       "      <td>1.162254</td>\n",
       "      <td>0.410513</td>\n",
       "      <td>1.007780</td>\n",
       "      <td>7.733405</td>\n",
       "      <td>1.624516</td>\n",
       "      <td>5.35</td>\n",
       "      <td>...</td>\n",
       "      <td>-0.034066</td>\n",
       "      <td>8.1</td>\n",
       "      <td>-446.423901</td>\n",
       "      <td>4.006194</td>\n",
       "      <td>18.036229</td>\n",
       "      <td>3.958468</td>\n",
       "      <td>0.773985</td>\n",
       "      <td>26.0</td>\n",
       "      <td>67</td>\n",
       "      <td>4.517454</td>\n",
       "    </tr>\n",
       "    <tr>\n",
       "      <th>4</th>\n",
       "      <td>0</td>\n",
       "      <td>3.612630</td>\n",
       "      <td>0.313996</td>\n",
       "      <td>0.185405</td>\n",
       "      <td>0.982344</td>\n",
       "      <td>0.303109</td>\n",
       "      <td>0.468375</td>\n",
       "      <td>10.331989</td>\n",
       "      <td>2.915476</td>\n",
       "      <td>5840.00</td>\n",
       "      <td>...</td>\n",
       "      <td>0.019048</td>\n",
       "      <td>9.0</td>\n",
       "      <td>121.071429</td>\n",
       "      <td>14.247091</td>\n",
       "      <td>17.895530</td>\n",
       "      <td>4.212407</td>\n",
       "      <td>0.850643</td>\n",
       "      <td>35.9</td>\n",
       "      <td>82</td>\n",
       "      <td>3.238877</td>\n",
       "    </tr>\n",
       "  </tbody>\n",
       "</table>\n",
       "<p>5 rows × 31 columns</p>\n",
       "</div>"
      ],
      "text/plain": [
       "   Infect    qHctSD  qPotassSD  qAlbuminSD    qHgbSD  qCaTotalSD  qPhosphSD  \\\n",
       "0       0  2.431481   0.228430    0.196453  0.769840    0.355903   0.434613   \n",
       "1       0  0.947365   0.165831    0.121835  0.547723    0.243670   0.714033   \n",
       "2       0  2.781608   0.510870    0.214879  0.833292    0.276664   0.530083   \n",
       "3       0  3.452758   0.604519    0.159882  1.162254    0.410513   1.007780   \n",
       "4       0  3.612630   0.313996    0.185405  0.982344    0.303109   0.468375   \n",
       "\n",
       "   qDiastolicSD  qSodiumSD  qWhBldCntLast  ...  qCaTotalTrend  qCaTotalLast  \\\n",
       "0     21.206801   1.758858           3.64  ...      -0.041667           8.0   \n",
       "1      4.662014   1.500000        6490.00  ...      -0.028571           9.0   \n",
       "2     11.785113   2.260777        5830.00  ...       0.020000           9.4   \n",
       "3      7.733405   1.624516           5.35  ...      -0.034066           8.1   \n",
       "4     10.331989   2.915476        5840.00  ...       0.019048           9.0   \n",
       "\n",
       "   qWhBldCntTrend  qGlucoseSD  qSystolicSD  qLymphSD  qWeightVitalSD  \\\n",
       "0     -545.415667   44.605913    27.535835  2.955890        1.212995   \n",
       "1      956.159405   13.392512     9.874209  2.909440        0.990502   \n",
       "2     -243.571429   11.586497    22.609951  1.538465        1.322456   \n",
       "3     -446.423901    4.006194    18.036229  3.958468        0.773985   \n",
       "4      121.071429   14.247091    17.895530  4.212407        0.850643   \n",
       "\n",
       "   qLymphLast  PatientAge  PDVintage  \n",
       "0        14.3          41   7.485284  \n",
       "1        37.6          47   5.746749  \n",
       "2        13.6          91   5.204654  \n",
       "3        26.0          67   4.517454  \n",
       "4        35.9          82   3.238877  \n",
       "\n",
       "[5 rows x 31 columns]"
      ]
     },
     "execution_count": 1,
     "metadata": {},
     "output_type": "execute_result"
    }
   ],
   "source": [
    "from IPython.display import display\n",
    "import pandas as pd\n",
    "import numpy as np\n",
    "import sklearn\n",
    "\n",
    "df = pd.read_csv('data.csv')\n",
    "df.head()"
   ]
  },
  {
   "cell_type": "code",
   "execution_count": 2,
   "id": "c160df56",
   "metadata": {},
   "outputs": [
    {
     "data": {
      "text/plain": [
       "Index(['Infect', 'qHctSD', 'qPotassSD', 'qAlbuminSD', 'qHgbSD', 'qCaTotalSD',\n",
       "       'qPhosphSD', 'qDiastolicSD', 'qSodiumSD', 'qWhBldCntLast', 'qBicarbSD',\n",
       "       'qBicarbTrend', 'qPotassLast', 'qSodiumTrend', 'qSystolicTrend',\n",
       "       'qSystolicLast', 'qNeutrophilsLast', 'qPulseSD', 'qBicarbLast',\n",
       "       'qHctTrend', 'qDiastolicLast', 'qCaTotalTrend', 'qCaTotalLast',\n",
       "       'qWhBldCntTrend', 'qGlucoseSD', 'qSystolicSD', 'qLymphSD',\n",
       "       'qWeightVitalSD', 'qLymphLast', 'PatientAge', 'PDVintage'],\n",
       "      dtype='object')"
      ]
     },
     "execution_count": 2,
     "metadata": {},
     "output_type": "execute_result"
    }
   ],
   "source": [
    "df.columns"
   ]
  },
  {
   "cell_type": "code",
   "execution_count": 3,
   "id": "721b395f",
   "metadata": {},
   "outputs": [
    {
     "name": "stdout",
     "output_type": "stream",
     "text": [
      "<class 'pandas.core.frame.DataFrame'>\n",
      "RangeIndex: 617 entries, 0 to 616\n",
      "Data columns (total 31 columns):\n",
      " #   Column            Non-Null Count  Dtype  \n",
      "---  ------            --------------  -----  \n",
      " 0   Infect            617 non-null    int64  \n",
      " 1   qHctSD            617 non-null    float64\n",
      " 2   qPotassSD         617 non-null    float64\n",
      " 3   qAlbuminSD        617 non-null    float64\n",
      " 4   qHgbSD            617 non-null    float64\n",
      " 5   qCaTotalSD        617 non-null    float64\n",
      " 6   qPhosphSD         617 non-null    float64\n",
      " 7   qDiastolicSD      617 non-null    float64\n",
      " 8   qSodiumSD         617 non-null    float64\n",
      " 9   qWhBldCntLast     617 non-null    float64\n",
      " 10  qBicarbSD         617 non-null    float64\n",
      " 11  qBicarbTrend      617 non-null    float64\n",
      " 12  qPotassLast       617 non-null    float64\n",
      " 13  qSodiumTrend      617 non-null    float64\n",
      " 14  qSystolicTrend    617 non-null    float64\n",
      " 15  qSystolicLast     617 non-null    int64  \n",
      " 16  qNeutrophilsLast  617 non-null    float64\n",
      " 17  qPulseSD          617 non-null    float64\n",
      " 18  qBicarbLast       617 non-null    float64\n",
      " 19  qHctTrend         617 non-null    float64\n",
      " 20  qDiastolicLast    617 non-null    int64  \n",
      " 21  qCaTotalTrend     617 non-null    float64\n",
      " 22  qCaTotalLast      617 non-null    float64\n",
      " 23  qWhBldCntTrend    617 non-null    float64\n",
      " 24  qGlucoseSD        617 non-null    float64\n",
      " 25  qSystolicSD       617 non-null    float64\n",
      " 26  qLymphSD          617 non-null    float64\n",
      " 27  qWeightVitalSD    617 non-null    float64\n",
      " 28  qLymphLast        617 non-null    float64\n",
      " 29  PatientAge        617 non-null    int64  \n",
      " 30  PDVintage         617 non-null    float64\n",
      "dtypes: float64(27), int64(4)\n",
      "memory usage: 149.6 KB\n"
     ]
    }
   ],
   "source": [
    "df.info()"
   ]
  },
  {
   "cell_type": "code",
   "execution_count": 4,
   "id": "23a356b6",
   "metadata": {},
   "outputs": [
    {
     "data": {
      "text/plain": [
       "Infect              1.826286e-01\n",
       "qHctSD              3.487115e+00\n",
       "qPotassSD           8.501552e-02\n",
       "qAlbuminSD          2.287829e-02\n",
       "qHgbSD              5.225531e-01\n",
       "qCaTotalSD          1.436364e-01\n",
       "qPhosphSD           1.366975e+00\n",
       "qDiastolicSD        2.498762e+01\n",
       "qSodiumSD           1.041452e+01\n",
       "qWhBldCntLast       2.004874e+07\n",
       "qBicarbSD           5.223299e+00\n",
       "qBicarbTrend        4.679446e+00\n",
       "qPotassLast         6.050565e-01\n",
       "qSodiumTrend        5.674604e+00\n",
       "qSystolicTrend      9.117878e+03\n",
       "qSystolicLast       4.225671e+05\n",
       "qNeutrophilsLast    1.050540e+02\n",
       "qPulseSD            2.388513e+02\n",
       "qBicarbLast         2.818892e+01\n",
       "qHctTrend           8.049923e+00\n",
       "qDiastolicLast      2.270544e+02\n",
       "qCaTotalTrend       2.497921e-01\n",
       "qCaTotalLast        1.104012e+00\n",
       "qWhBldCntTrend      2.838990e+06\n",
       "qGlucoseSD          6.637251e+02\n",
       "qSystolicSD         1.159603e+05\n",
       "qLymphSD            1.765622e+05\n",
       "qWeightVitalSD      8.150256e+03\n",
       "qLymphLast          1.034768e+05\n",
       "PatientAge          1.830387e+02\n",
       "PDVintage           3.694490e+00\n",
       "dtype: float64"
      ]
     },
     "execution_count": 4,
     "metadata": {},
     "output_type": "execute_result"
    }
   ],
   "source": [
    "df.var()"
   ]
  },
  {
   "cell_type": "code",
   "execution_count": 5,
   "id": "7eec6c57",
   "metadata": {},
   "outputs": [
    {
     "data": {
      "text/plain": [
       "Infect              0\n",
       "qHctSD              0\n",
       "qPotassSD           0\n",
       "qAlbuminSD          0\n",
       "qHgbSD              0\n",
       "qCaTotalSD          0\n",
       "qPhosphSD           0\n",
       "qDiastolicSD        0\n",
       "qSodiumSD           0\n",
       "qWhBldCntLast       0\n",
       "qBicarbSD           0\n",
       "qBicarbTrend        0\n",
       "qPotassLast         0\n",
       "qSodiumTrend        0\n",
       "qSystolicTrend      0\n",
       "qSystolicLast       0\n",
       "qNeutrophilsLast    0\n",
       "qPulseSD            0\n",
       "qBicarbLast         0\n",
       "qHctTrend           0\n",
       "qDiastolicLast      0\n",
       "qCaTotalTrend       0\n",
       "qCaTotalLast        0\n",
       "qWhBldCntTrend      0\n",
       "qGlucoseSD          0\n",
       "qSystolicSD         0\n",
       "qLymphSD            0\n",
       "qWeightVitalSD      0\n",
       "qLymphLast          0\n",
       "PatientAge          0\n",
       "PDVintage           0\n",
       "dtype: int64"
      ]
     },
     "execution_count": 5,
     "metadata": {},
     "output_type": "execute_result"
    }
   ],
   "source": [
    "df.isnull().sum()"
   ]
  },
  {
   "cell_type": "code",
   "execution_count": 6,
   "id": "da133886",
   "metadata": {},
   "outputs": [
    {
     "data": {
      "text/plain": [
       "Infect              0\n",
       "qHctSD              0\n",
       "qPotassSD           0\n",
       "qAlbuminSD          0\n",
       "qHgbSD              0\n",
       "qCaTotalSD          0\n",
       "qPhosphSD           0\n",
       "qDiastolicSD        0\n",
       "qSodiumSD           0\n",
       "qWhBldCntLast       0\n",
       "qBicarbSD           0\n",
       "qBicarbTrend        0\n",
       "qPotassLast         0\n",
       "qSodiumTrend        0\n",
       "qSystolicTrend      0\n",
       "qSystolicLast       0\n",
       "qNeutrophilsLast    0\n",
       "qPulseSD            0\n",
       "qBicarbLast         0\n",
       "qHctTrend           0\n",
       "qDiastolicLast      0\n",
       "qCaTotalTrend       0\n",
       "qCaTotalLast        0\n",
       "qWhBldCntTrend      0\n",
       "qGlucoseSD          0\n",
       "qSystolicSD         0\n",
       "qLymphSD            0\n",
       "qWeightVitalSD      0\n",
       "qLymphLast          0\n",
       "PatientAge          0\n",
       "PDVintage           0\n",
       "dtype: int64"
      ]
     },
     "execution_count": 6,
     "metadata": {},
     "output_type": "execute_result"
    }
   ],
   "source": [
    "df.isna().sum()"
   ]
  },
  {
   "cell_type": "code",
   "execution_count": 7,
   "id": "119c4a3b",
   "metadata": {},
   "outputs": [
    {
     "data": {
      "text/plain": [
       "0    469\n",
       "1    148\n",
       "Name: Infect, dtype: int64"
      ]
     },
     "execution_count": 7,
     "metadata": {},
     "output_type": "execute_result"
    }
   ],
   "source": [
    "df['Infect'].value_counts()"
   ]
  },
  {
   "cell_type": "code",
   "execution_count": 8,
   "id": "3430a2bb",
   "metadata": {},
   "outputs": [],
   "source": [
    "x = df.drop(\"Infect\",axis = 1)\n",
    "y = df[[\"Infect\"]]"
   ]
  },
  {
   "cell_type": "markdown",
   "id": "a03e3949",
   "metadata": {},
   "source": [
    "# split"
   ]
  },
  {
   "cell_type": "code",
   "execution_count": 9,
   "id": "248f24a6",
   "metadata": {},
   "outputs": [
    {
     "name": "stdout",
     "output_type": "stream",
     "text": [
      "       qHctSD  qPotassSD  qAlbuminSD    qHgbSD  qCaTotalSD  qPhosphSD  \\\n",
      "143  0.169967   0.163299    0.047842  0.124722    0.694422   1.268420   \n",
      "374  0.150000   0.595000    0.000000  0.100000    0.000000   0.000000   \n",
      "224  3.199585   0.346185    0.373620  0.834790    0.637918   0.397954   \n",
      "46   5.619330   0.404467    0.299739  1.841026    0.543139   0.527820   \n",
      "104  1.963132   0.899383    0.221565  0.776164    0.203685   1.077340   \n",
      "..        ...        ...         ...       ...         ...        ...   \n",
      "174  1.247219   0.294392    0.188562  0.410961    0.368179   0.464280   \n",
      "32   1.600000   0.200000    0.000000  0.450000    0.000000   0.100000   \n",
      "602  0.000000   0.000000    0.000000  0.000000    0.000000   0.000000   \n",
      "473  1.886796   0.555788    0.193907  0.623217    0.745386   0.302655   \n",
      "128  2.550000   0.100000    0.410000  0.550000    0.250000   0.600000   \n",
      "\n",
      "     qDiastolicSD  qSodiumSD  qWhBldCntLast  qBicarbSD  ...  qCaTotalTrend  \\\n",
      "143      1.500000   2.054805           7.50   2.943920  ...   6.500000e-01   \n",
      "374      2.000000   3.350000           8.90   0.100000  ...  -1.141775e-02   \n",
      "224     12.128865   3.603384           7.40   0.661438  ...  -1.392857e-01   \n",
      "46      12.278029   1.363589        6090.00   1.581139  ...  -2.000000e-01   \n",
      "104     12.866839   3.377828        8200.00   1.708801  ...   4.181818e-02   \n",
      "..            ...        ...            ...        ...  ...            ...   \n",
      "174      5.656854   1.699673           6.25   1.699673  ...  -2.500000e-01   \n",
      "32      10.000000   1.500000       12480.00   3.000000  ...  -1.220000e-15   \n",
      "602      0.000000   0.000000          10.00   0.000000  ...  -1.141775e-02   \n",
      "473      3.668044   1.118034        6400.00   1.802776  ...  -1.696970e-02   \n",
      "128      3.000000   4.000000           8.00   4.000000  ...  -5.000000e-01   \n",
      "\n",
      "     qCaTotalLast  qWhBldCntTrend  qGlucoseSD  qSystolicSD  qLymphSD  \\\n",
      "143          10.8   -3.996250e+03   74.136511     5.000000  1.673984   \n",
      "374          10.3    9.000000e-01    7.825725     7.500000  2.909440   \n",
      "224           8.3   -7.600000e-01   12.737539    34.412026  3.700000   \n",
      "46            8.2    5.404762e+01    3.479853    14.119468  4.240799   \n",
      "104           9.3    2.132867e+02   11.592888    25.864497  8.787618   \n",
      "..            ...             ...         ...          ...       ...   \n",
      "174           8.1   -7.000000e-02   15.937377    12.498889  4.320494   \n",
      "32            9.1    3.770000e+03   43.500000    15.000000  8.500000   \n",
      "602           8.2   -2.650000e-16    0.000000     0.000000  0.000000   \n",
      "473          10.9   -2.606061e+01   22.727956     4.459181  4.715930   \n",
      "128           7.9    2.000000e+00    0.000000     7.000000  9.100000   \n",
      "\n",
      "     qWeightVitalSD  qLymphLast  PatientAge  PDVintage  \n",
      "143        0.216025        30.0          60   1.683778  \n",
      "374        0.250000        21.4          54   0.005476  \n",
      "224        3.518522        11.3          69   1.174538  \n",
      "46         4.834366        30.0          34   0.298426  \n",
      "104        2.388333        37.0          60   0.339493  \n",
      "..              ...         ...         ...        ...  \n",
      "174        0.816497        28.0          66   1.850787  \n",
      "32         0.500000         4.0          65   2.234086  \n",
      "602        0.000000        15.2          44   2.620123  \n",
      "473        4.244588        28.0          49   4.008214  \n",
      "128        1.247219        60.0          51   0.670773  \n",
      "\n",
      "[493 rows x 30 columns]\n",
      "----------------------------------------------------------------------------------------------------------------\n",
      "       qHctSD  qPotassSD  qAlbuminSD    qHgbSD  qCaTotalSD  qPhosphSD  \\\n",
      "45   1.363669   0.478931    0.116592  0.494046    0.368909   0.631961   \n",
      "273  2.650000   0.180000    0.168508  0.900000    0.400000   1.550000   \n",
      "268  3.050000   0.309121    0.168508  1.000000    0.050000   0.300000   \n",
      "31   3.907815   0.477664    0.314934  1.507532    0.419913   1.843134   \n",
      "84   2.985276   0.396989    0.574804  0.901041    0.591270   1.014692   \n",
      "..        ...        ...         ...       ...         ...        ...   \n",
      "453  0.910433   0.389711    0.150000  0.638792    0.335410   0.496865   \n",
      "122  1.986622   0.494975    0.043205  0.618241    0.111803   0.326917   \n",
      "475  1.605113   0.332499    0.292499  0.744377    1.266886   0.723399   \n",
      "504  2.860313   0.197203    0.254406  0.943398    0.906765   0.544671   \n",
      "416  2.283090   0.428427    0.082916  0.651920    0.227761   0.418330   \n",
      "\n",
      "     qDiastolicSD  qSodiumSD  qWhBldCntLast  qBicarbSD  ...  qCaTotalTrend  \\\n",
      "45      13.784049   1.299038        12810.0   1.391941  ...       0.125000   \n",
      "273      0.000000   1.250000         3070.0   1.000000  ...       0.800000   \n",
      "268      4.714045   1.849324         7140.0   1.633673  ...       0.100000   \n",
      "31      10.038701   2.231500        11010.0   3.016959  ...      -0.053571   \n",
      "84      11.288933   3.382307         4300.0   3.038026  ...      -0.400000   \n",
      "..            ...        ...            ...        ...  ...            ...   \n",
      "453      5.678908   1.166190         3640.0   1.089725  ...       0.200000   \n",
      "122      6.576473   0.829156            8.8   3.561952  ...      -0.080000   \n",
      "475     10.498677   1.624466         4300.0   2.943920  ...       0.231469   \n",
      "504      7.410578   3.448027        11000.0   1.892969  ...       0.251429   \n",
      "416      5.612486   1.219375         5900.0   0.613901  ...      -0.190000   \n",
      "\n",
      "     qCaTotalLast  qWhBldCntTrend  qGlucoseSD  qSystolicSD   qLymphSD  \\\n",
      "45            9.5    3.870238e+02   72.436179    23.876963   3.497767   \n",
      "273           7.0    1.140000e+03    7.825725     0.000000   2.000000   \n",
      "268           9.6   -1.360000e+03    7.825725     8.653837   3.500000   \n",
      "31            7.9    6.392857e+02   14.636332    21.622928   7.971889   \n",
      "84            8.5   -7.400000e+02    6.726812    12.664912   5.261891   \n",
      "..            ...             ...         ...          ...        ...   \n",
      "453           8.5   -2.650000e-16    3.766630    15.927570   2.909440   \n",
      "122           8.7   -3.395600e+03    0.942809     4.242641  25.999615   \n",
      "475          12.8    1.258741e+01   23.355347    17.200412   2.498611   \n",
      "504          10.8   -3.142857e+01   20.527055    10.192590   2.692582   \n",
      "416           6.8    2.327990e+03    7.825725     7.790218   1.028044   \n",
      "\n",
      "     qWeightVitalSD  qLymphLast  PatientAge  PDVintage  \n",
      "45         1.984313        22.0          61   0.490075  \n",
      "273        0.000000        22.0          41   0.000000  \n",
      "268        0.471405        18.0          31   0.016427  \n",
      "31         1.979487        13.0          67   0.240931  \n",
      "84         4.715676        32.0          37   2.704997  \n",
      "..              ...         ...         ...        ...  \n",
      "453        0.584701        21.4          71   0.522930  \n",
      "122        2.406242        10.0          51   4.585900  \n",
      "475        3.578485        23.0          60   3.868583  \n",
      "504        2.564501        26.0          49   2.327173  \n",
      "416        1.147552        21.8          69   2.754278  \n",
      "\n",
      "[124 rows x 30 columns]\n",
      "----------------------------------------------------------------------------------------------------------------\n",
      "     Infect\n",
      "143       1\n",
      "374       0\n",
      "224       0\n",
      "46        0\n",
      "104       1\n",
      "..      ...\n",
      "174       0\n",
      "32        1\n",
      "602       1\n",
      "473       1\n",
      "128       0\n",
      "\n",
      "[493 rows x 1 columns]\n",
      "----------------------------------------------------------------------------------------------------------------\n",
      "     Infect\n",
      "45        0\n",
      "273       0\n",
      "268       0\n",
      "31        1\n",
      "84        1\n",
      "..      ...\n",
      "453       1\n",
      "122       0\n",
      "475       0\n",
      "504       0\n",
      "416       0\n",
      "\n",
      "[124 rows x 1 columns]\n"
     ]
    }
   ],
   "source": [
    "from sklearn.model_selection import train_test_split\n",
    "x_train, x_test,y_train, y_test = train_test_split(x, y, test_size=0.2, random_state=0,stratify=y)\n",
    "print(x_train)\n",
    "print(\"----------------------------------------------------------------------------------------------------------------\")\n",
    "print(x_test)\n",
    "print(\"----------------------------------------------------------------------------------------------------------------\")\n",
    "print(y_train)\n",
    "print(\"----------------------------------------------------------------------------------------------------------------\")\n",
    "print(y_test)"
   ]
  },
  {
   "cell_type": "markdown",
   "id": "7297f421",
   "metadata": {},
   "source": [
    "# scaling"
   ]
  },
  {
   "cell_type": "code",
   "execution_count": 10,
   "id": "82e9fa14",
   "metadata": {},
   "outputs": [
    {
     "name": "stdout",
     "output_type": "stream",
     "text": [
      "[[-1.18688064 -0.76599042 -0.91192369 ... -0.0251345   0.30201667\n",
      "  -0.02527925]\n",
      " [-1.19728889  0.72034759 -1.23473673 ... -0.04905896 -0.13784808\n",
      "  -0.88241113]\n",
      " [ 0.39235168 -0.13631967  1.28623934 ... -0.07715629  0.96181379\n",
      "  -0.28535515]\n",
      " ...\n",
      " [-1.27547858 -1.32822714 -1.23473673 ... -0.06630682 -0.87095599\n",
      "   0.45292483]\n",
      " [-0.29195856  0.58534042  0.07363947 ... -0.03069833 -0.50440204\n",
      "   1.16184141]\n",
      " [ 0.05374607 -0.98392887  1.53171164 ...  0.0583229  -0.35778045\n",
      "  -0.54263454]]\n",
      "----------------------------------------------------------------------------------------------------------------\n",
      "[[-0.56464649  0.32072438 -0.44803818 ... -0.04738981  0.37532746\n",
      "  -0.63491954]\n",
      " [ 0.10587252 -0.70849025 -0.09773763 ... -0.04738981 -1.09088837\n",
      "  -0.88520764]\n",
      " [ 0.31437835 -0.26393019 -0.09773763 ... -0.05851747 -1.82399628\n",
      "  -0.8768181 ]\n",
      " ...\n",
      " [-0.43878986 -0.18343897  0.73888001 ... -0.0446079   0.30201667\n",
      "   1.09053028]\n",
      " [ 0.2155011  -0.64926179  0.4818487  ... -0.03626216 -0.50440204\n",
      "   0.30331128]\n",
      " [-0.08538465  0.14684085 -0.67526897 ... -0.04794619  0.96181379\n",
      "   0.52143945]]\n",
      "----------------------------------------------------------------------------------------------------------------\n",
      "     Infect\n",
      "0         0\n",
      "1         0\n",
      "2         0\n",
      "3         0\n",
      "4         0\n",
      "..      ...\n",
      "612       1\n",
      "613       0\n",
      "614       0\n",
      "615       0\n",
      "616       0\n",
      "\n",
      "[617 rows x 1 columns]\n"
     ]
    }
   ],
   "source": [
    "from sklearn.preprocessing import StandardScaler\n",
    "scaler = StandardScaler()\n",
    "x_train_scaler = scaler.fit_transform(x_train)\n",
    "x_test_scaler = scaler.transform(x_test)\n",
    "print(x_train_scaler)\n",
    "print(\"----------------------------------------------------------------------------------------------------------------\")\n",
    "print(x_test_scaler)\n",
    "print(\"----------------------------------------------------------------------------------------------------------------\")\n",
    "print(y)"
   ]
  },
  {
   "cell_type": "markdown",
   "id": "e443191c",
   "metadata": {},
   "source": [
    "# DecisionTree"
   ]
  },
  {
   "cell_type": "code",
   "execution_count": 11,
   "id": "9514427d",
   "metadata": {},
   "outputs": [
    {
     "data": {
      "text/plain": [
       "GridSearchCV(estimator=DecisionTreeClassifier(),\n",
       "             param_grid={'criterion': ['entropy', 'gini'],\n",
       "                         'max_depth': array([1, 2, 3, 4, 5, 6, 7, 8, 9])})"
      ]
     },
     "execution_count": 11,
     "metadata": {},
     "output_type": "execute_result"
    }
   ],
   "source": [
    "from sklearn.tree import DecisionTreeClassifier\n",
    "from sklearn.model_selection import GridSearchCV\n",
    "\n",
    "\n",
    "param_grid = {'max_depth': np.arange(1, 10),\n",
    "                      'criterion':['entropy','gini'] }\n",
    "\n",
    "tree = GridSearchCV(DecisionTreeClassifier(), param_grid)\n",
    "tree.fit(x_train_scaler, y_train)"
   ]
  },
  {
   "cell_type": "code",
   "execution_count": 12,
   "id": "325381c8",
   "metadata": {},
   "outputs": [
    {
     "data": {
      "text/plain": [
       "DecisionTreeClassifier(criterion='entropy', max_depth=2)"
      ]
     },
     "execution_count": 12,
     "metadata": {},
     "output_type": "execute_result"
    }
   ],
   "source": [
    "ntree = tree.best_estimator_\n",
    "tree.best_estimator_"
   ]
  },
  {
   "cell_type": "code",
   "execution_count": 13,
   "id": "aebf903e",
   "metadata": {},
   "outputs": [
    {
     "data": {
      "text/plain": [
       "DecisionTreeClassifier(class_weight={0: 1.0, 1: 3.1689}, criterion='entropy',\n",
       "                       max_depth=2)"
      ]
     },
     "execution_count": 13,
     "metadata": {},
     "output_type": "execute_result"
    }
   ],
   "source": [
    "weight = {0:1.0,1:3.1689}\n",
    "ntree = DecisionTreeClassifier(\n",
    "    criterion='entropy', \n",
    "    max_depth=2,\n",
    "    class_weight = weight)\n",
    "ntree.fit(x_train_scaler, y_train)"
   ]
  },
  {
   "cell_type": "code",
   "execution_count": 14,
   "id": "21a72d38",
   "metadata": {
    "scrolled": true
   },
   "outputs": [
    {
     "data": {
      "text/plain": [
       "Infect\n",
       "0         375\n",
       "1         118\n",
       "dtype: int64"
      ]
     },
     "execution_count": 14,
     "metadata": {},
     "output_type": "execute_result"
    }
   ],
   "source": [
    "y_train.value_counts()"
   ]
  },
  {
   "cell_type": "code",
   "execution_count": 15,
   "id": "605c8160",
   "metadata": {},
   "outputs": [
    {
     "name": "stdout",
     "output_type": "stream",
     "text": [
      "[[69 25]\n",
      " [11 19]]\n",
      "----------------------------------------------------------------------------------------------------------------\n",
      "              precision    recall  f1-score   support\n",
      "\n",
      "           0       0.86      0.73      0.79        94\n",
      "           1       0.43      0.63      0.51        30\n",
      "\n",
      "    accuracy                           0.71       124\n",
      "   macro avg       0.65      0.68      0.65       124\n",
      "weighted avg       0.76      0.71      0.73       124\n",
      "\n",
      "----------------------------------------------------------------------------------------------------------------\n",
      "accuracy  0.7096774193548387\n",
      "precision  0.4318181818181818\n",
      "recall       0.6333333333333333\n",
      "f1            0.5135135135135135\n"
     ]
    }
   ],
   "source": [
    "y_pred = ntree.predict(x_test_scaler)\n",
    "import matplotlib.pyplot as plt\n",
    "from sklearn.metrics import accuracy_score,classification_report\n",
    "from sklearn.metrics import confusion_matrix, accuracy_score, precision_score, recall_score, f1_score\n",
    "\n",
    "cm = confusion_matrix(y_test,y_pred)\n",
    "\n",
    "print(cm)\n",
    "\n",
    "print(\"----------------------------------------------------------------------------------------------------------------\")\n",
    "print(classification_report(y_test, y_pred))\n",
    "print(\"----------------------------------------------------------------------------------------------------------------\")\n",
    "\n",
    "print(\"accuracy \" ,accuracy_score(y_test, y_pred))\n",
    "print(\"precision \" , precision_score(y_test,y_pred))\n",
    "print(\"recall      \" , recall_score(y_test,y_pred))\n",
    "print(\"f1           \" , f1_score(y_test,y_pred))"
   ]
  },
  {
   "cell_type": "code",
   "execution_count": 56,
   "id": "5958738a",
   "metadata": {
    "scrolled": false
   },
   "outputs": [
    {
     "data": {
      "image/png": "[encoded data removed]",
      "text/plain": [
       "<Figure size 576x576 with 1 Axes>"
      ]
     },
     "metadata": {
      "needs_background": "light"
     },
     "output_type": "display_data"
    }
   ],
   "source": [
    "from sklearn.metrics import roc_curve, auc\n",
    "ll=[0,1]\n",
    "ur=[0,1]\n",
    "\n",
    "plt.figure(figsize=(8,8))\n",
    "y_pred_prob = ntree.predict_proba(x_test_scaler)\n",
    "fpr, tpr, thresholds = roc_curve(y_test,y_pred_prob[:,1], pos_label=1)\n",
    "# plt.plot(fpr,tpr)\n",
    "plt.plot(fpr, tpr,color='orange',)\n",
    "plt.plot(ll,ur,\"--r\")\n",
    "plt.title(\"ROC Curve\")\n",
    "plt.xlabel(\"False Posotuve Rate(FRR)\")\n",
    "plt.ylabel(\"True Posotuve Rate(TRR)\")\n",
    "plt.grid(True)\n",
    "plt.show()"
   ]
  },
  {
   "cell_type": "markdown",
   "id": "9ea73a3a",
   "metadata": {},
   "source": [
    "# naive_bayes"
   ]
  },
  {
   "cell_type": "code",
   "execution_count": 21,
   "id": "7eefb8ce",
   "metadata": {},
   "outputs": [
    {
     "data": {
      "text/plain": [
       "GaussianNB(var_smoothing=0.1)"
      ]
     },
     "execution_count": 21,
     "metadata": {},
     "output_type": "execute_result"
    }
   ],
   "source": [
    "from sklearn.naive_bayes import GaussianNB\n",
    "param_grid = {\n",
    "    'var_smoothing'      : [0.01,0.02,0.03,0.1,0.2,0.3],\n",
    "}\n",
    "nb = GridSearchCV(GaussianNB(), param_grid)\n",
    "nb.fit(x_train_scaler, np.ravel(y_train))\n",
    "nnb = nb.best_estimator_\n",
    "nb.best_estimator_"
   ]
  },
  {
   "cell_type": "code",
   "execution_count": 22,
   "id": "d1451139",
   "metadata": {},
   "outputs": [
    {
     "name": "stdout",
     "output_type": "stream",
     "text": [
      "[[ 3 91]\n",
      " [ 1 29]]\n",
      "----------------------------------------------------------------------------------------------------------------\n",
      "              precision    recall  f1-score   support\n",
      "\n",
      "           0       0.75      0.03      0.06        94\n",
      "           1       0.24      0.97      0.39        30\n",
      "\n",
      "    accuracy                           0.26       124\n",
      "   macro avg       0.50      0.50      0.22       124\n",
      "weighted avg       0.63      0.26      0.14       124\n",
      "\n",
      "----------------------------------------------------------------------------------------------------------------\n",
      "accuracy  0.25806451612903225\n",
      "precision  0.24166666666666667\n",
      "recall       0.9666666666666667\n",
      "f1            0.38666666666666666\n"
     ]
    }
   ],
   "source": [
    "y_pred = nnb.predict(x_test_scaler)\n",
    "import matplotlib.pyplot as plt\n",
    "from sklearn.metrics import accuracy_score,classification_report\n",
    "from sklearn.metrics import confusion_matrix, accuracy_score, precision_score, recall_score, f1_score\n",
    "\n",
    "cm = confusion_matrix(y_test,y_pred)\n",
    "\n",
    "print(cm)\n",
    "print(\"----------------------------------------------------------------------------------------------------------------\")\n",
    "print(classification_report(y_test, y_pred))\n",
    "print(\"----------------------------------------------------------------------------------------------------------------\")\n",
    "\n",
    "print(\"accuracy \" ,accuracy_score(y_test, y_pred))\n",
    "print(\"precision \" , precision_score(y_test,y_pred))\n",
    "print(\"recall      \" , recall_score(y_test,y_pred))\n",
    "print(\"f1           \" , f1_score(y_test,y_pred))"
   ]
  },
  {
   "cell_type": "code",
   "execution_count": 23,
   "id": "d2ba2065",
   "metadata": {},
   "outputs": [],
   "source": [
    "# nnb = GaussianNB(\n",
    "#     var_smoothing = 0.1)\n",
    "# nnb.fit(x_train_scaler, np.ravel(y_train))"
   ]
  },
  {
   "cell_type": "code",
   "execution_count": 55,
   "id": "598c5317",
   "metadata": {
    "scrolled": false
   },
   "outputs": [
    {
     "data": {
      "image/png": "[encoded data removed]",
      "text/plain": [
       "<Figure size 576x576 with 1 Axes>"
      ]
     },
     "metadata": {
      "needs_background": "light"
     },
     "output_type": "display_data"
    }
   ],
   "source": [
    "ll=[0,1]\n",
    "ur=[0,1]\n",
    "\n",
    "plt.figure(figsize=(8,8))\n",
    "y_pred_prob = nnb.predict_proba(x_test_scaler)\n",
    "fpr, tpr, thresholds = roc_curve(y_test,y_pred_prob[:,1], pos_label=1)\n",
    "plt.plot(fpr,tpr,color = \"orange\")\n",
    "plt.plot(ll,ur,\"--r\")\n",
    "plt.title(\"ROC Curve\")\n",
    "plt.xlabel(\"False Posotuve Rate(FRR)\")\n",
    "plt.ylabel(\"True Posotuve Rate(TRR)\")\n",
    "plt.grid(True)\n",
    "plt.show()"
   ]
  },
  {
   "cell_type": "markdown",
   "id": "a7ab9cea",
   "metadata": {},
   "source": [
    "# XGboost"
   ]
  },
  {
   "cell_type": "code",
   "execution_count": 37,
   "id": "05edc5e7",
   "metadata": {},
   "outputs": [
    {
     "name": "stdout",
     "output_type": "stream",
     "text": [
      "C:\\Users\\world\\anaconda3\\python.exe\n"
     ]
    }
   ],
   "source": [
    "import sys\n",
    "print (sys.executable)"
   ]
  },
  {
   "cell_type": "code",
   "execution_count": 38,
   "id": "ce8befe6",
   "metadata": {},
   "outputs": [],
   "source": [
    "sys.path.append(r\"C:\\Users\\world\\anaconda3\\python.exe\")\n",
    "import xgboost as xgb"
   ]
  },
  {
   "cell_type": "code",
   "execution_count": 60,
   "id": "fd93b092",
   "metadata": {},
   "outputs": [
    {
     "name": "stdout",
     "output_type": "stream",
     "text": [
      "[11:06:34] WARNING: ..\\src\\learner.cc:1095: Starting in XGBoost 1.3.0, the default evaluation metric used with the objective 'binary:logistic' was changed from 'error' to 'logloss'. Explicitly set eval_metric if you'd like to restore the old behavior.\n"
     ]
    },
    {
     "data": {
      "text/plain": [
       "XGBClassifier(base_score=0.5, booster='gbtree', colsample_bylevel=1,\n",
       "              colsample_bynode=1, colsample_bytree=1, gamma=0, gpu_id=-1,\n",
       "              importance_type='gain', interaction_constraints='',\n",
       "              learning_rate=0.300000012, max_delta_step=0, max_depth=6,\n",
       "              min_child_weight=1, missing=nan, monotone_constraints='()',\n",
       "              n_estimators=100, n_jobs=12, num_parallel_tree=1, random_state=0,\n",
       "              reg_alpha=0, reg_lambda=1, scale_pos_weight=1, subsample=1,\n",
       "              tree_method='exact', use_label_encoder=False,\n",
       "              validate_parameters=1, verbosity=None)"
      ]
     },
     "execution_count": 60,
     "metadata": {},
     "output_type": "execute_result"
    }
   ],
   "source": [
    "from xgboost import XGBClassifier\n",
    "param_grid = {\n",
    "    'n_estimators'      : [10,20,30,40,50,60,70],\n",
    "    'learning_rate'         : [0.1,0.2,0.3,0.4,0.5],\n",
    "    'random_state'      : [0],\n",
    "    'use_label_encoder' :[True,False]\n",
    "}\n",
    "model = XGBClassifier(use_label_encoder=False )\n",
    "model.fit(x_train_scaler,np.ravel(y_train))"
   ]
  },
  {
   "cell_type": "code",
   "execution_count": 61,
   "id": "298be972",
   "metadata": {},
   "outputs": [
    {
     "name": "stdout",
     "output_type": "stream",
     "text": [
      "[11:06:55] WARNING: ..\\src\\learner.cc:1095: Starting in XGBoost 1.3.0, the default evaluation metric used with the objective 'binary:logistic' was changed from 'error' to 'logloss'. Explicitly set eval_metric if you'd like to restore the old behavior.\n"
     ]
    },
    {
     "name": "stderr",
     "output_type": "stream",
     "text": [
      "C:\\Users\\world\\anaconda3\\lib\\site-packages\\xgboost\\sklearn.py:1146: UserWarning: The use of label encoder in XGBClassifier is deprecated and will be removed in a future release. To remove this warning, do the following: 1) Pass option use_label_encoder=False when constructing XGBClassifier object; and 2) Encode your labels (y) as integers starting with 0, i.e. 0, 1, 2, ..., [num_class - 1].\n",
      "  warnings.warn(label_encoder_deprecation_msg, UserWarning)\n"
     ]
    },
    {
     "data": {
      "text/plain": [
       "{'learning_rate': 0.4,\n",
       " 'n_estimators': 10,\n",
       " 'random_state': 0,\n",
       " 'use_label_encoder': True}"
      ]
     },
     "execution_count": 61,
     "metadata": {},
     "output_type": "execute_result"
    }
   ],
   "source": [
    "grid_search = GridSearchCV(model ,param_grid,refit = True, verbose=0,n_jobs=-1,scoring='f1',cv=10)\n",
    "grid_search.fit(x_train_scaler,np.ravel(y_train))\n",
    "grid_search.best_params_"
   ]
  },
  {
   "cell_type": "code",
   "execution_count": 62,
   "id": "25d6e49a",
   "metadata": {},
   "outputs": [
    {
     "name": "stdout",
     "output_type": "stream",
     "text": [
      "[11:07:01] WARNING: ..\\src\\learner.cc:1095: Starting in XGBoost 1.3.0, the default evaluation metric used with the objective 'binary:logistic' was changed from 'error' to 'logloss'. Explicitly set eval_metric if you'd like to restore the old behavior.\n"
     ]
    },
    {
     "data": {
      "text/plain": [
       "XGBClassifier(base_score=0.5, booster='gbtree', colsample_bylevel=1,\n",
       "              colsample_bynode=1, colsample_bytree=1, gamma=0, gpu_id=-1,\n",
       "              importance_type='gain', interaction_constraints='',\n",
       "              learning_rate=0.4, max_delta_step=0, max_depth=6,\n",
       "              min_child_weight=1, missing=nan, monotone_constraints='()',\n",
       "              n_estimators=10, n_jobs=12, num_parallel_tree=1, random_state=0,\n",
       "              reg_alpha=0, reg_lambda=1, scale_pos_weight=1, subsample=1,\n",
       "              tree_method='exact', validate_parameters=1, verbosity=None)"
      ]
     },
     "execution_count": 62,
     "metadata": {},
     "output_type": "execute_result"
    }
   ],
   "source": [
    "model = XGBClassifier(\n",
    "    learning_rate = 0.4,\n",
    "    n_estimators=10,\n",
    "    random_state=0,\n",
    "    use_label_encoder=True)\n",
    "model.fit(x_train_scaler,np.ravel(y_train))"
   ]
  },
  {
   "cell_type": "code",
   "execution_count": 63,
   "id": "ac936829",
   "metadata": {},
   "outputs": [
    {
     "name": "stdout",
     "output_type": "stream",
     "text": [
      "[[90  4]\n",
      " [18 12]]\n",
      "----------------------------------------------------------------------------------------------------------------\n",
      "              precision    recall  f1-score   support\n",
      "\n",
      "           0       0.83      0.96      0.89        94\n",
      "           1       0.75      0.40      0.52        30\n",
      "\n",
      "    accuracy                           0.82       124\n",
      "   macro avg       0.79      0.68      0.71       124\n",
      "weighted avg       0.81      0.82      0.80       124\n",
      "\n",
      "----------------------------------------------------------------------------------------------------------------\n",
      "accuracy  0.8225806451612904\n",
      "precision  0.75\n",
      "recall       0.4\n",
      "f1            0.5217391304347827\n"
     ]
    },
    {
     "name": "stderr",
     "output_type": "stream",
     "text": [
      "C:\\Users\\world\\anaconda3\\lib\\site-packages\\xgboost\\data.py:112: UserWarning: Use subset (sliced data) of np.ndarray is not recommended because it will generate extra copies and increase memory consumption\n",
      "  warnings.warn(\n"
     ]
    }
   ],
   "source": [
    "y_pred = model.predict(x_test_scaler)\n",
    "import matplotlib.pyplot as plt\n",
    "from sklearn.metrics import accuracy_score,classification_report\n",
    "from sklearn.metrics import confusion_matrix, accuracy_score, precision_score, recall_score, f1_score\n",
    "\n",
    "cm = confusion_matrix(y_test,y_pred)\n",
    "\n",
    "print(cm)\n",
    "print(\"----------------------------------------------------------------------------------------------------------------\")\n",
    "print(classification_report(y_test, y_pred))\n",
    "print(\"----------------------------------------------------------------------------------------------------------------\")\n",
    "\n",
    "print(\"accuracy \" ,accuracy_score(y_test, y_pred))\n",
    "print(\"precision \" , precision_score(y_test,y_pred))\n",
    "print(\"recall      \" , recall_score(y_test,y_pred))\n",
    "print(\"f1           \" , f1_score(y_test,y_pred))"
   ]
  },
  {
   "cell_type": "code",
   "execution_count": 54,
   "id": "180d0e6d",
   "metadata": {},
   "outputs": [
    {
     "name": "stderr",
     "output_type": "stream",
     "text": [
      "C:\\Users\\world\\anaconda3\\lib\\site-packages\\xgboost\\data.py:112: UserWarning: Use subset (sliced data) of np.ndarray is not recommended because it will generate extra copies and increase memory consumption\n",
      "  warnings.warn(\n"
     ]
    },
    {
     "data": {
      "image/png": "[encoded data removed]",
      "text/plain": [
       "<Figure size 576x576 with 1 Axes>"
      ]
     },
     "metadata": {
      "needs_background": "light"
     },
     "output_type": "display_data"
    }
   ],
   "source": [
    "ll=[0,1]\n",
    "ur=[0,1]\n",
    "\n",
    "plt.figure(figsize=(8,8))\n",
    "y_pred_prob = model.predict_proba(x_test_scaler)\n",
    "fpr, tpr, thresholds = roc_curve(y_test,y_pred_prob[:,1], pos_label=1)\n",
    "plt.plot(fpr,tpr,color = \"orange\")\n",
    "plt.plot(ll,ur,\"--r\")\n",
    "plt.title(\"ROC Curve\")\n",
    "plt.xlabel(\"False Posotuve Rate(FRR)\")\n",
    "plt.ylabel(\"True Posotuve Rate(TRR)\")\n",
    "plt.grid(True)\n",
    "plt.show()"
   ]
  },
  {
   "cell_type": "code",
   "execution_count": null,
   "id": "79199f64",
   "metadata": {},
   "outputs": [],
   "source": []
  }
 ],
 "metadata": {
  "kernelspec": {
   "display_name": "Python 3",
   "language": "python",
   "name": "python3"
  },
  "language_info": {
   "codemirror_mode": {
    "name": "ipython",
    "version": 3
   },
   "file_extension": ".py",
   "mimetype": "text/x-python",
   "name": "python",
   "nbconvert_exporter": "python",
   "pygments_lexer": "ipython3",
   "version": "3.8.8"
  }
 },
 "nbformat": 4,
 "nbformat_minor": 5
}
