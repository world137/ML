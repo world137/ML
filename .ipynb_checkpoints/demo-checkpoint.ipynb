{
 "cells": [
  {
   "cell_type": "markdown",
   "id": "9d0a916f",
   "metadata": {},
   "source": [
    "# importing Library"
   ]
  },
  {
   "cell_type": "code",
   "execution_count": 1,
   "id": "e4461fd0",
   "metadata": {},
   "outputs": [],
   "source": [
    "import numpy as np\n",
    "import pandas as pd\n",
    "import matplotlib.pyplot as plt"
   ]
  },
  {
   "cell_type": "markdown",
   "id": "be418355",
   "metadata": {},
   "source": [
    "# Importing Dataset"
   ]
  },
  {
   "cell_type": "code",
   "execution_count": 2,
   "id": "15d818f6",
   "metadata": {
    "scrolled": true
   },
   "outputs": [],
   "source": [
    "df = pd.read_csv('data.csv')\n"
   ]
  },
  {
   "cell_type": "markdown",
   "id": "4d8ef962",
   "metadata": {},
   "source": [
    "# Checking data types"
   ]
  },
  {
   "cell_type": "code",
   "execution_count": 3,
   "id": "674664ce",
   "metadata": {},
   "outputs": [
    {
     "name": "stdout",
     "output_type": "stream",
     "text": [
      "<class 'pandas.core.frame.DataFrame'>\n",
      "RangeIndex: 617 entries, 0 to 616\n",
      "Data columns (total 31 columns):\n",
      " #   Column            Non-Null Count  Dtype  \n",
      "---  ------            --------------  -----  \n",
      " 0   Infect            617 non-null    int64  \n",
      " 1   qHctSD            617 non-null    float64\n",
      " 2   qPotassSD         617 non-null    float64\n",
      " 3   qAlbuminSD        617 non-null    float64\n",
      " 4   qHgbSD            617 non-null    float64\n",
      " 5   qCaTotalSD        617 non-null    float64\n",
      " 6   qPhosphSD         617 non-null    float64\n",
      " 7   qDiastolicSD      617 non-null    float64\n",
      " 8   qSodiumSD         617 non-null    float64\n",
      " 9   qWhBldCntLast     617 non-null    float64\n",
      " 10  qBicarbSD         617 non-null    float64\n",
      " 11  qBicarbTrend      617 non-null    float64\n",
      " 12  qPotassLast       617 non-null    float64\n",
      " 13  qSodiumTrend      617 non-null    float64\n",
      " 14  qSystolicTrend    617 non-null    float64\n",
      " 15  qSystolicLast     617 non-null    int64  \n",
      " 16  qNeutrophilsLast  617 non-null    float64\n",
      " 17  qPulseSD          617 non-null    float64\n",
      " 18  qBicarbLast       617 non-null    float64\n",
      " 19  qHctTrend         617 non-null    float64\n",
      " 20  qDiastolicLast    617 non-null    int64  \n",
      " 21  qCaTotalTrend     617 non-null    float64\n",
      " 22  qCaTotalLast      617 non-null    float64\n",
      " 23  qWhBldCntTrend    617 non-null    float64\n",
      " 24  qGlucoseSD        617 non-null    float64\n",
      " 25  qSystolicSD       617 non-null    float64\n",
      " 26  qLymphSD          617 non-null    float64\n",
      " 27  qWeightVitalSD    617 non-null    float64\n",
      " 28  qLymphLast        617 non-null    float64\n",
      " 29  PatientAge        617 non-null    int64  \n",
      " 30  PDVintage         617 non-null    float64\n",
      "dtypes: float64(27), int64(4)\n",
      "memory usage: 149.6 KB\n",
      "None\n"
     ]
    }
   ],
   "source": [
    "print(df.info())"
   ]
  },
  {
   "cell_type": "markdown",
   "id": "93899abf",
   "metadata": {},
   "source": [
    "# Checking for NaN data and Null Data "
   ]
  },
  {
   "cell_type": "code",
   "execution_count": 4,
   "id": "3d88c2f6",
   "metadata": {
    "scrolled": true
   },
   "outputs": [
    {
     "name": "stdout",
     "output_type": "stream",
     "text": [
      "checking for NaN:\n",
      "Infect              0\n",
      "qHctSD              0\n",
      "qPotassSD           0\n",
      "qAlbuminSD          0\n",
      "qHgbSD              0\n",
      "qCaTotalSD          0\n",
      "qPhosphSD           0\n",
      "qDiastolicSD        0\n",
      "qSodiumSD           0\n",
      "qWhBldCntLast       0\n",
      "qBicarbSD           0\n",
      "qBicarbTrend        0\n",
      "qPotassLast         0\n",
      "qSodiumTrend        0\n",
      "qSystolicTrend      0\n",
      "qSystolicLast       0\n",
      "qNeutrophilsLast    0\n",
      "qPulseSD            0\n",
      "qBicarbLast         0\n",
      "qHctTrend           0\n",
      "qDiastolicLast      0\n",
      "qCaTotalTrend       0\n",
      "qCaTotalLast        0\n",
      "qWhBldCntTrend      0\n",
      "qGlucoseSD          0\n",
      "qSystolicSD         0\n",
      "qLymphSD            0\n",
      "qWeightVitalSD      0\n",
      "qLymphLast          0\n",
      "PatientAge          0\n",
      "PDVintage           0\n",
      "dtype: int64\n",
      "##################################\n",
      "checking for null:\n",
      "Infect              0\n",
      "qHctSD              0\n",
      "qPotassSD           0\n",
      "qAlbuminSD          0\n",
      "qHgbSD              0\n",
      "qCaTotalSD          0\n",
      "qPhosphSD           0\n",
      "qDiastolicSD        0\n",
      "qSodiumSD           0\n",
      "qWhBldCntLast       0\n",
      "qBicarbSD           0\n",
      "qBicarbTrend        0\n",
      "qPotassLast         0\n",
      "qSodiumTrend        0\n",
      "qSystolicTrend      0\n",
      "qSystolicLast       0\n",
      "qNeutrophilsLast    0\n",
      "qPulseSD            0\n",
      "qBicarbLast         0\n",
      "qHctTrend           0\n",
      "qDiastolicLast      0\n",
      "qCaTotalTrend       0\n",
      "qCaTotalLast        0\n",
      "qWhBldCntTrend      0\n",
      "qGlucoseSD          0\n",
      "qSystolicSD         0\n",
      "qLymphSD            0\n",
      "qWeightVitalSD      0\n",
      "qLymphLast          0\n",
      "PatientAge          0\n",
      "PDVintage           0\n",
      "dtype: int64\n"
     ]
    }
   ],
   "source": [
    "print(f\"checking for NaN:\\n{df.isna().sum()}\")\n",
    "print(\"##################################\")\n",
    "print(f\"checking for null:\\n{df.isnull().sum()}\")\n"
   ]
  },
  {
   "cell_type": "markdown",
   "id": "30c8b494",
   "metadata": {},
   "source": [
    "# Showing the all column name"
   ]
  },
  {
   "cell_type": "code",
   "execution_count": 5,
   "id": "7f4bebc9",
   "metadata": {
    "scrolled": true
   },
   "outputs": [
    {
     "name": "stdout",
     "output_type": "stream",
     "text": [
      "Index(['Infect', 'qHctSD', 'qPotassSD', 'qAlbuminSD', 'qHgbSD', 'qCaTotalSD',\n",
      "       'qPhosphSD', 'qDiastolicSD', 'qSodiumSD', 'qWhBldCntLast', 'qBicarbSD',\n",
      "       'qBicarbTrend', 'qPotassLast', 'qSodiumTrend', 'qSystolicTrend',\n",
      "       'qSystolicLast', 'qNeutrophilsLast', 'qPulseSD', 'qBicarbLast',\n",
      "       'qHctTrend', 'qDiastolicLast', 'qCaTotalTrend', 'qCaTotalLast',\n",
      "       'qWhBldCntTrend', 'qGlucoseSD', 'qSystolicSD', 'qLymphSD',\n",
      "       'qWeightVitalSD', 'qLymphLast', 'PatientAge', 'PDVintage'],\n",
      "      dtype='object')\n"
     ]
    }
   ],
   "source": [
    "print(df.columns)"
   ]
  },
  {
   "cell_type": "markdown",
   "id": "ef0374c1",
   "metadata": {},
   "source": [
    "# Seperate the data to X,Y"
   ]
  },
  {
   "cell_type": "code",
   "execution_count": 6,
   "id": "bfc78c93",
   "metadata": {},
   "outputs": [],
   "source": [
    "X = df.iloc[:,1:].values\n",
    "Y = df.iloc[:,0].values"
   ]
  },
  {
   "cell_type": "markdown",
   "id": "0e24e47d",
   "metadata": {},
   "source": [
    "# Checking \"Infect\" Value "
   ]
  },
  {
   "cell_type": "code",
   "execution_count": 7,
   "id": "54dab2dd",
   "metadata": {
    "scrolled": true
   },
   "outputs": [
    {
     "data": {
      "text/plain": [
       "0    469\n",
       "1    148\n",
       "Name: Infect, dtype: int64"
      ]
     },
     "execution_count": 7,
     "metadata": {},
     "output_type": "execute_result"
    }
   ],
   "source": [
    "df.Infect.value_counts()"
   ]
  },
  {
   "cell_type": "markdown",
   "id": "efe4a50f",
   "metadata": {},
   "source": [
    "# Dealing with imbalanced data"
   ]
  },
  {
   "cell_type": "code",
   "execution_count": null,
   "id": "aa1c4398",
   "metadata": {},
   "outputs": [],
   "source": []
  },
  {
   "cell_type": "markdown",
   "id": "bb48dd4d",
   "metadata": {},
   "source": [
    "\n",
    "# Splitting Dataset Into Training Set And Test Set  "
   ]
  },
  {
   "cell_type": "code",
   "execution_count": 8,
   "id": "b4afe396",
   "metadata": {},
   "outputs": [],
   "source": [
    "from sklearn.model_selection import train_test_split\n",
    "xtrain, xtest, ytrain, ytest = train_test_split(X, Y, test_size=0.2, random_state=0, stratify=Y) "
   ]
  },
  {
   "cell_type": "markdown",
   "id": "7e9528f5",
   "metadata": {},
   "source": [
    "# Feature Scaling"
   ]
  },
  {
   "cell_type": "code",
   "execution_count": 9,
   "id": "3485ef6d",
   "metadata": {},
   "outputs": [],
   "source": [
    "from sklearn.preprocessing import StandardScaler\n",
    "sc = StandardScaler()\n",
    "xtrain_scaled = sc.fit_transform(xtrain)\n",
    "xtest_scaled = sc.transform(xtest)"
   ]
  },
  {
   "cell_type": "code",
   "execution_count": 10,
   "id": "3a480f6b",
   "metadata": {
    "scrolled": true
   },
   "outputs": [
    {
     "name": "stdout",
     "output_type": "stream",
     "text": [
      "[[1.69967317e-01 1.63299316e-01 4.78423340e-02 ... 3.00000000e+01\n",
      "  6.00000000e+01 1.68377823e+00]\n",
      " [1.50000000e-01 5.95000000e-01 0.00000000e+00 ... 2.14000000e+01\n",
      "  5.40000000e+01 5.47570200e-03]\n",
      " [3.19958493e+00 3.46184561e-01 3.73619909e-01 ... 1.13000000e+01\n",
      "  6.90000000e+01 1.17453799e+00]\n",
      " ...\n",
      " [0.00000000e+00 0.00000000e+00 0.00000000e+00 ... 1.52000000e+01\n",
      "  4.40000000e+01 2.62012320e+00]\n",
      " [1.88679623e+00 5.55787729e-01 1.93907194e-01 ... 2.80000000e+01\n",
      "  4.90000000e+01 4.00821355e+00]\n",
      " [2.55000000e+00 1.00000000e-01 4.10000000e-01 ... 6.00000000e+01\n",
      "  5.10000000e+01 6.70773443e-01]]\n",
      "------------------------------------------------\n",
      "[[-1.18688064 -0.76599042 -0.91192369 ... -0.0251345   0.30201667\n",
      "  -0.02527925]\n",
      " [-1.19728889  0.72034759 -1.23473673 ... -0.04905896 -0.13784808\n",
      "  -0.88241113]\n",
      " [ 0.39235168 -0.13631967  1.28623934 ... -0.07715629  0.96181379\n",
      "  -0.28535515]\n",
      " ...\n",
      " [-1.27547858 -1.32822714 -1.23473673 ... -0.06630682 -0.87095599\n",
      "   0.45292483]\n",
      " [-0.29195856  0.58534042  0.07363947 ... -0.03069833 -0.50440204\n",
      "   1.16184141]\n",
      " [ 0.05374607 -0.98392887  1.53171164 ...  0.0583229  -0.35778045\n",
      "  -0.54263454]]\n",
      "######################################\n",
      "[[1.36366852e+00 4.78931102e-01 1.16592238e-01 ... 2.20000000e+01\n",
      "  6.10000000e+01 4.90075291e-01]\n",
      " [2.65000000e+00 1.80000000e-01 1.68508343e-01 ... 2.20000000e+01\n",
      "  4.10000000e+01 0.00000000e+00]\n",
      " [3.05000000e+00 3.09120617e-01 1.68508343e-01 ... 1.80000000e+01\n",
      "  3.10000000e+01 1.64271050e-02]\n",
      " ...\n",
      " [1.60511336e+00 3.32498956e-01 2.92498813e-01 ... 2.30000000e+01\n",
      "  6.00000000e+01 3.86858316e+00]\n",
      " [2.86031273e+00 1.97202659e-01 2.54405625e-01 ... 2.60000000e+01\n",
      "  4.90000000e+01 2.32717317e+00]\n",
      " [2.28309001e+00 4.28427357e-01 8.29156200e-02 ... 2.18000000e+01\n",
      "  6.90000000e+01 2.75427789e+00]]\n",
      "-------------------------------------------------\n",
      "[[-0.56464649  0.32072438 -0.44803818 ... -0.04738981  0.37532746\n",
      "  -0.63491954]\n",
      " [ 0.10587252 -0.70849025 -0.09773763 ... -0.04738981 -1.09088837\n",
      "  -0.88520764]\n",
      " [ 0.31437835 -0.26393019 -0.09773763 ... -0.05851747 -1.82399628\n",
      "  -0.8768181 ]\n",
      " ...\n",
      " [-0.43878986 -0.18343897  0.73888001 ... -0.0446079   0.30201667\n",
      "   1.09053028]\n",
      " [ 0.2155011  -0.64926179  0.4818487  ... -0.03626216 -0.50440204\n",
      "   0.30331128]\n",
      " [-0.08538465  0.14684085 -0.67526897 ... -0.04794619  0.96181379\n",
      "   0.52143945]]\n"
     ]
    }
   ],
   "source": [
    "print(xtrain)\n",
    "print(\"------------------------------------------------\")\n",
    "print(xtrain_scaled)\n",
    "print(\"######################################\")\n",
    "print(xtest)\n",
    "print(\"-------------------------------------------------\")\n",
    "print(xtest_scaled)"
   ]
  },
  {
   "cell_type": "code",
   "execution_count": 11,
   "id": "91c4a45c",
   "metadata": {},
   "outputs": [
    {
     "ename": "ModuleNotFoundError",
     "evalue": "No module named 'imblearn'",
     "output_type": "error",
     "traceback": [
      "\u001b[1;31m---------------------------------------------------------------------------\u001b[0m",
      "\u001b[1;31mModuleNotFoundError\u001b[0m                       Traceback (most recent call last)",
      "\u001b[1;32m<ipython-input-11-a36c3851ca60>\u001b[0m in \u001b[0;36m<module>\u001b[1;34m\u001b[0m\n\u001b[1;32m----> 1\u001b[1;33m \u001b[1;32mfrom\u001b[0m \u001b[0mimblearn\u001b[0m\u001b[1;33m.\u001b[0m\u001b[0mover_sampling\u001b[0m \u001b[1;32mimport\u001b[0m \u001b[0mSMOTE\u001b[0m\u001b[1;33m\u001b[0m\u001b[1;33m\u001b[0m\u001b[0m\n\u001b[0m\u001b[0;32m      2\u001b[0m \u001b[1;33m\u001b[0m\u001b[0m\n\u001b[0;32m      3\u001b[0m \u001b[0msm\u001b[0m \u001b[1;33m=\u001b[0m \u001b[0mSMOTE\u001b[0m\u001b[1;33m(\u001b[0m\u001b[0mrandom_state\u001b[0m\u001b[1;33m=\u001b[0m\u001b[1;36m42\u001b[0m\u001b[1;33m)\u001b[0m\u001b[1;33m\u001b[0m\u001b[1;33m\u001b[0m\u001b[0m\n\u001b[0;32m      4\u001b[0m \u001b[1;33m\u001b[0m\u001b[0m\n\u001b[0;32m      5\u001b[0m \u001b[0mXsm\u001b[0m\u001b[1;33m,\u001b[0m \u001b[0mYsm\u001b[0m \u001b[1;33m=\u001b[0m \u001b[0msm\u001b[0m\u001b[1;33m.\u001b[0m\u001b[0mfit_resample\u001b[0m\u001b[1;33m(\u001b[0m\u001b[0mxtrain\u001b[0m\u001b[1;33m,\u001b[0m\u001b[0mytrain\u001b[0m\u001b[1;33m)\u001b[0m\u001b[1;33m\u001b[0m\u001b[1;33m\u001b[0m\u001b[0m\n",
      "\u001b[1;31mModuleNotFoundError\u001b[0m: No module named 'imblearn'"
     ]
    }
   ],
   "source": [
    "from imblearn.over_sampling import SMOTE\n",
    "\n",
    "sm = SMOTE(random_state=42)\n",
    "\n",
    "Xsm, Ysm = sm.fit_resample(xtrain,ytrain)\n"
   ]
  },
  {
   "cell_type": "code",
   "execution_count": null,
   "id": "4cf84bd1",
   "metadata": {},
   "outputs": [],
   "source": [
    "np.unique(Ysm,return_counts=True)"
   ]
  },
  {
   "cell_type": "markdown",
   "id": "2bbf2153",
   "metadata": {},
   "source": [
    "# Creating Model (Logistic Regression)"
   ]
  },
  {
   "cell_type": "code",
   "execution_count": null,
   "id": "82c824f6",
   "metadata": {},
   "outputs": [],
   "source": [
    "from sklearn.linear_model import LogisticRegression\n",
    "classifier = LogisticRegression(random_state=0)\n",
    "classifier.fit(Xsm, Ysm)"
   ]
  },
  {
   "cell_type": "markdown",
   "id": "b14511a8",
   "metadata": {},
   "source": [
    "# Predicting The Test Set Result"
   ]
  },
  {
   "cell_type": "code",
   "execution_count": null,
   "id": "3b0fb01c",
   "metadata": {},
   "outputs": [],
   "source": [
    "ypred = classifier.predict(xtest_scaled)\n",
    "print(np.concatenate((ypred.reshape(len(ypred),1),ytest.reshape(len(ytest),1)),1))"
   ]
  },
  {
   "cell_type": "markdown",
   "id": "c38d82ae",
   "metadata": {},
   "source": [
    "# Confusion Matrix"
   ]
  },
  {
   "cell_type": "code",
   "execution_count": null,
   "id": "60080054",
   "metadata": {
    "scrolled": false
   },
   "outputs": [],
   "source": [
    "from sklearn.metrics import confusion_matrix, accuracy_score, precision_score, recall_score, f1_score\n",
    "from sklearn.metrics import accuracy_score,classification_report\n",
    "cm = confusion_matrix(ytest,ypred)\n",
    "print(cm)\n",
    "print(accuracy_score(ytest,ypred))\n",
    "print(precision_score(ytest,ypred))\n",
    "print(recall_score(ytest,ypred))\n",
    "print(f1_score(ytest,ypred))\n",
    "\n",
    "print(classification_report(ytest, ypred))"
   ]
  },
  {
   "cell_type": "markdown",
   "id": "f6cbb9c1",
   "metadata": {},
   "source": [
    "\n"
   ]
  },
  {
   "cell_type": "code",
   "execution_count": null,
   "id": "fba63305",
   "metadata": {},
   "outputs": [],
   "source": []
  }
 ],
 "metadata": {
  "kernelspec": {
   "display_name": "Python 3",
   "language": "python",
   "name": "python3"
  },
  "language_info": {
   "codemirror_mode": {
    "name": "ipython",
    "version": 3
   },
   "file_extension": ".py",
   "mimetype": "text/x-python",
   "name": "python",
   "nbconvert_exporter": "python",
   "pygments_lexer": "ipython3",
   "version": "3.8.8"
  }
 },
 "nbformat": 4,
 "nbformat_minor": 5
}
